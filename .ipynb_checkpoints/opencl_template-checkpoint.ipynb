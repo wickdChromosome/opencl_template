{
 "cells": [
  {
   "cell_type": "code",
   "execution_count": 49,
   "metadata": {},
   "outputs": [],
   "source": [
    "import numpy as np\n",
    "import pyopencl as cl\n",
    "import pandas as pd\n",
    "import matplotlib.pyplot as plt\n"
   ]
  },
  {
   "cell_type": "code",
   "execution_count": 72,
   "metadata": {},
   "outputs": [],
   "source": [
    "f = pd.read_csv(\"/home/bkotis/Downloads/winequality-white.csv\",sep=';')\n",
    "\n",
    "ctx = cl.create_some_context()\n",
    "queue = cl.CommandQueue(ctx)\n",
    "mf = cl.mem_flags\n"
   ]
  },
  {
   "cell_type": "code",
   "execution_count": null,
   "metadata": {},
   "outputs": [],
   "source": [
    "#create the input buffers\n",
    "in_np = {\n",
    "    \n",
    "    'alco':f.alcohol.values.astype(np.float32),\n",
    "    'ph':f.quality.values.astype(np.float32)\n",
    "    \n",
    "    }\n",
    "\n",
    "inarg_np = [cl.Buffer(ctx, mf.READ_ONLY | mf.COPY_HOST_PTR, hostbuf=np_array) for np_array in in_np.values()]"
   ]
  },
  {
   "cell_type": "code",
   "execution_count": 78,
   "metadata": {},
   "outputs": [],
   "source": [
    "#declare the types the same \n",
    "inarg_arr = [\"__global const float *\" + str(inargval) for inargval in in_np.keys()]\n",
    "inarg_arr.append(\"__global float *res\")\n",
    "#string conversion\n",
    "inargs = \",\".join(inarg_arr)"
   ]
  },
  {
   "cell_type": "code",
   "execution_count": 79,
   "metadata": {},
   "outputs": [],
   "source": [
    "prg_str = \"\"\"__kernel void sum(\"\"\" + inargs + \"\"\"){\"\"\" + \"\"\"\n",
    "\n",
    "    int gid1 = get_global_id(0);\n",
    "    float smarr[2][3];\n",
    "    \n",
    "    res[gid1] = gid1 + gid1;\n",
    "\n",
    "}\n",
    "\"\"\"\n",
    "prg = cl.Program(ctx, prg_str).build()"
   ]
  },
  {
   "cell_type": "code",
   "execution_count": 80,
   "metadata": {},
   "outputs": [
    {
     "data": {
      "text/plain": [
       "<pyopencl._cl.NannyEvent at 0x7f140e147dd0>"
      ]
     },
     "execution_count": 80,
     "metadata": {},
     "output_type": "execute_result"
    }
   ],
   "source": [
    "\n",
    "res = cl.Buffer(ctx, mf.WRITE_ONLY, alco_array.nbytes)\n",
    "prg.sum(queue, alco_array.shape, None, alco, ph, res)\n",
    "\n",
    "res_np = np.empty_like(alco_array)\n",
    "cl.enqueue_copy(queue, res_np, res)"
   ]
  },
  {
   "cell_type": "code",
   "execution_count": null,
   "metadata": {},
   "outputs": [],
   "source": []
  }
 ],
 "metadata": {
  "kernelspec": {
   "display_name": "Python 3",
   "language": "python",
   "name": "python3"
  },
  "language_info": {
   "codemirror_mode": {
    "name": "ipython",
    "version": 3
   },
   "file_extension": ".py",
   "mimetype": "text/x-python",
   "name": "python",
   "nbconvert_exporter": "python",
   "pygments_lexer": "ipython3",
   "version": "3.7.5"
  }
 },
 "nbformat": 4,
 "nbformat_minor": 4
}
